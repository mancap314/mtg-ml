{
 "cells": [
  {
   "cell_type": "markdown",
   "metadata": {},
   "source": [
    "# Deep Learning Based Card Classification\n",
    "## Introduction\n",
    "The goal of this notebook is to classify the cards based on their *oracle_text* with deep learning models\n",
    "\n",
    "## Text Preprocessing"
   ]
  },
  {
   "cell_type": "code",
   "execution_count": 1,
   "metadata": {},
   "outputs": [],
   "source": [
    "import pandas as pd\n",
    "from os.path import join\n",
    "from sklearn.preprocessing import LabelEncoder\n",
    "from sklearn.model_selection import train_test_split\n",
    "import re, string\n",
    "from spacy.lang.en.stop_words import STOP_WORDS\n",
    "\n",
    "df_path = join(*['..', '..', 'data', 'cards-tags', 'tagged_cards.csv'])\n",
    "word2vec_path = join(*['../../data/word2vec.txt.gz'])\n",
    "\n",
    "word_dim = 100"
   ]
  },
  {
   "cell_type": "markdown",
   "metadata": {},
   "source": [
    "Create numerical labels from the cards tags:"
   ]
  },
  {
   "cell_type": "code",
   "execution_count": 3,
   "metadata": {},
   "outputs": [
    {
     "data": {
      "text/html": [
       "<div>\n",
       "<style scoped>\n",
       "    .dataframe tbody tr th:only-of-type {\n",
       "        vertical-align: middle;\n",
       "    }\n",
       "\n",
       "    .dataframe tbody tr th {\n",
       "        vertical-align: top;\n",
       "    }\n",
       "\n",
       "    .dataframe thead th {\n",
       "        text-align: right;\n",
       "    }\n",
       "</style>\n",
       "<table border=\"1\" class=\"dataframe\">\n",
       "  <thead>\n",
       "    <tr style=\"text-align: right;\">\n",
       "      <th></th>\n",
       "      <th>name</th>\n",
       "      <th>oracle_text</th>\n",
       "      <th>oracleid</th>\n",
       "      <th>tag</th>\n",
       "      <th>type_line</th>\n",
       "      <th>label</th>\n",
       "    </tr>\n",
       "  </thead>\n",
       "  <tbody>\n",
       "    <tr>\n",
       "      <th>0</th>\n",
       "      <td>Abomination of Gudul</td>\n",
       "      <td>Flying\\nWhenever Abomination of Gudul deals co...</td>\n",
       "      <td>3d98af5f-7a0b-4a5a-b3e4-f3c9d150c993</td>\n",
       "      <td>discard-outlet</td>\n",
       "      <td>Creature — Horror</td>\n",
       "      <td>0</td>\n",
       "    </tr>\n",
       "    <tr>\n",
       "      <th>1</th>\n",
       "      <td>Academy Elite</td>\n",
       "      <td>Academy Elite enters the battlefield with X +1...</td>\n",
       "      <td>ba6c3c72-c014-45c6-a0b4-59eb9a65303e</td>\n",
       "      <td>discard-outlet</td>\n",
       "      <td>Creature — Human Wizard</td>\n",
       "      <td>0</td>\n",
       "    </tr>\n",
       "    <tr>\n",
       "      <th>2</th>\n",
       "      <td>Academy Raider</td>\n",
       "      <td>Intimidate (This creature can't be blocked exc...</td>\n",
       "      <td>75131d75-0703-44d0-b503-35190be8e66f</td>\n",
       "      <td>discard-outlet</td>\n",
       "      <td>Creature — Human Warrior</td>\n",
       "      <td>0</td>\n",
       "    </tr>\n",
       "    <tr>\n",
       "      <th>3</th>\n",
       "      <td>Akoum Flameseeker</td>\n",
       "      <td>Cohort — {T}, Tap an untapped Ally you control...</td>\n",
       "      <td>efae637f-3232-46f2-9839-f3386e2f447d</td>\n",
       "      <td>discard-outlet</td>\n",
       "      <td>Creature — Human Shaman Ally</td>\n",
       "      <td>0</td>\n",
       "    </tr>\n",
       "    <tr>\n",
       "      <th>4</th>\n",
       "      <td>Alexi, Zephyr Mage</td>\n",
       "      <td>{X}{U}, {T}, Discard two cards: Return X targe...</td>\n",
       "      <td>3f60de36-ed63-4d08-a012-fc16e91da46d</td>\n",
       "      <td>discard-outlet</td>\n",
       "      <td>Legendary Creature — Human Spellshaper</td>\n",
       "      <td>0</td>\n",
       "    </tr>\n",
       "  </tbody>\n",
       "</table>\n",
       "</div>"
      ],
      "text/plain": [
       "                   name                                        oracle_text  \\\n",
       "0  Abomination of Gudul  Flying\\nWhenever Abomination of Gudul deals co...   \n",
       "1         Academy Elite  Academy Elite enters the battlefield with X +1...   \n",
       "2        Academy Raider  Intimidate (This creature can't be blocked exc...   \n",
       "3     Akoum Flameseeker  Cohort — {T}, Tap an untapped Ally you control...   \n",
       "4    Alexi, Zephyr Mage  {X}{U}, {T}, Discard two cards: Return X targe...   \n",
       "\n",
       "                               oracleid             tag  \\\n",
       "0  3d98af5f-7a0b-4a5a-b3e4-f3c9d150c993  discard-outlet   \n",
       "1  ba6c3c72-c014-45c6-a0b4-59eb9a65303e  discard-outlet   \n",
       "2  75131d75-0703-44d0-b503-35190be8e66f  discard-outlet   \n",
       "3  efae637f-3232-46f2-9839-f3386e2f447d  discard-outlet   \n",
       "4  3f60de36-ed63-4d08-a012-fc16e91da46d  discard-outlet   \n",
       "\n",
       "                                type_line  label  \n",
       "0                       Creature — Horror      0  \n",
       "1                 Creature — Human Wizard      0  \n",
       "2                Creature — Human Warrior      0  \n",
       "3            Creature — Human Shaman Ally      0  \n",
       "4  Legendary Creature — Human Spellshaper      0  "
      ]
     },
     "execution_count": 3,
     "metadata": {},
     "output_type": "execute_result"
    }
   ],
   "source": [
    "cards_df = pd.read_csv(df_path)\n",
    "\n",
    "# Get numerical encoding of the card\n",
    "le = LabelEncoder()\n",
    "cards_df['label'] = le.fit_transform(cards_df['tag'])\n",
    "\n",
    "cards_df.head()"
   ]
  },
  {
   "cell_type": "markdown",
   "metadata": {},
   "source": [
    "Create functions to normalize text (remove carriage return, tabs, punctuation...) and filter out English stop words:"
   ]
  },
  {
   "cell_type": "code",
   "execution_count": 4,
   "metadata": {},
   "outputs": [],
   "source": [
    "def normalize(text):\n",
    "    text = text.replace('\\n', ' ').replace('\\t', '')\n",
    "    text = re.split(r'\\W+', text)\n",
    "    table = str.maketrans('', '', string.punctuation)\n",
    "    text = [word.translate(table) for word in text]\n",
    "    text = ' '.join([word.lower() for word in text if word != ''])\n",
    "    return text\n",
    "\n",
    "def filter_stop_words(text):\n",
    "    text = re.split(r'\\W+', text)\n",
    "    text = ' '.join([word.lower() for word in text if word not in STOP_WORDS])\n",
    "    return text"
   ]
  },
  {
   "cell_type": "markdown",
   "metadata": {},
   "source": [
    "Apply those functions on the cards *oracle_text*:"
   ]
  },
  {
   "cell_type": "code",
   "execution_count": 5,
   "metadata": {},
   "outputs": [],
   "source": [
    "cards_df = cards_df.loc[:, ['oracle_text', 'label']].dropna()\n",
    "cards_df.loc[:,'normalized_oracle_text'] = cards_df['oracle_text'].apply(lambda x: filter_stop_words(normalize(x)))"
   ]
  },
  {
   "cell_type": "markdown",
   "metadata": {},
   "source": [
    "Result:"
   ]
  },
  {
   "cell_type": "code",
   "execution_count": 6,
   "metadata": {},
   "outputs": [
    {
     "data": {
      "text/html": [
       "<div>\n",
       "<style scoped>\n",
       "    .dataframe tbody tr th:only-of-type {\n",
       "        vertical-align: middle;\n",
       "    }\n",
       "\n",
       "    .dataframe tbody tr th {\n",
       "        vertical-align: top;\n",
       "    }\n",
       "\n",
       "    .dataframe thead th {\n",
       "        text-align: right;\n",
       "    }\n",
       "</style>\n",
       "<table border=\"1\" class=\"dataframe\">\n",
       "  <thead>\n",
       "    <tr style=\"text-align: right;\">\n",
       "      <th></th>\n",
       "      <th>oracle_text</th>\n",
       "      <th>label</th>\n",
       "      <th>normalized_oracle_text</th>\n",
       "    </tr>\n",
       "  </thead>\n",
       "  <tbody>\n",
       "    <tr>\n",
       "      <th>0</th>\n",
       "      <td>Flying\\nWhenever Abomination of Gudul deals co...</td>\n",
       "      <td>0</td>\n",
       "      <td>flying abomination gudul deals combat damage p...</td>\n",
       "    </tr>\n",
       "    <tr>\n",
       "      <th>1</th>\n",
       "      <td>Academy Elite enters the battlefield with X +1...</td>\n",
       "      <td>0</td>\n",
       "      <td>academy elite enters battlefield x 1 1 counter...</td>\n",
       "    </tr>\n",
       "    <tr>\n",
       "      <th>2</th>\n",
       "      <td>Intimidate (This creature can't be blocked exc...</td>\n",
       "      <td>0</td>\n",
       "      <td>intimidate creature t blocked artifact creatur...</td>\n",
       "    </tr>\n",
       "    <tr>\n",
       "      <th>3</th>\n",
       "      <td>Cohort — {T}, Tap an untapped Ally you control...</td>\n",
       "      <td>0</td>\n",
       "      <td>cohort t tap untapped ally control discard car...</td>\n",
       "    </tr>\n",
       "    <tr>\n",
       "      <th>4</th>\n",
       "      <td>{X}{U}, {T}, Discard two cards: Return X targe...</td>\n",
       "      <td>0</td>\n",
       "      <td>x u t discard cards return x target creatures ...</td>\n",
       "    </tr>\n",
       "  </tbody>\n",
       "</table>\n",
       "</div>"
      ],
      "text/plain": [
       "                                         oracle_text  label  \\\n",
       "0  Flying\\nWhenever Abomination of Gudul deals co...      0   \n",
       "1  Academy Elite enters the battlefield with X +1...      0   \n",
       "2  Intimidate (This creature can't be blocked exc...      0   \n",
       "3  Cohort — {T}, Tap an untapped Ally you control...      0   \n",
       "4  {X}{U}, {T}, Discard two cards: Return X targe...      0   \n",
       "\n",
       "                              normalized_oracle_text  \n",
       "0  flying abomination gudul deals combat damage p...  \n",
       "1  academy elite enters battlefield x 1 1 counter...  \n",
       "2  intimidate creature t blocked artifact creatur...  \n",
       "3  cohort t tap untapped ally control discard car...  \n",
       "4  x u t discard cards return x target creatures ...  "
      ]
     },
     "execution_count": 6,
     "metadata": {},
     "output_type": "execute_result"
    }
   ],
   "source": [
    "cards_df.head()"
   ]
  },
  {
   "cell_type": "markdown",
   "metadata": {},
   "source": [
    "## Create *word2vec* Embedding for *oracle_text*\n",
    "We create a 100 dimensional word embedding for all the cards *oracle_text*\n",
    "\n",
    "**NB: those word embeddings can be created just once, skip this section if already done**\n",
    "\n",
    "First we fetch the *oracle_text* for all the available cards:"
   ]
  },
  {
   "cell_type": "code",
   "execution_count": 18,
   "metadata": {},
   "outputs": [],
   "source": [
    "import psycopg2\n",
    "\n",
    "conn = psycopg2.connect(database=\"mtg\", user=\"postgres\", password=\"postgres\", port=5432, host='localhost')\n",
    "cur = conn.cursor()\n",
    "cur.execute(\"select oracle_text from cards where exists (select 1 from jsonb_each_text(cards.legalities) j where j.value not like '%not_legal%') and lang='en';\")\n",
    "\n",
    "cards = []\n",
    "card = cur.fetchone()\n",
    " \n",
    "while card is not None:\n",
    "    card = cur.fetchone()\n",
    "    cards.append(card)\n",
    " \n",
    "cur.close()\n",
    "\n",
    "cards = cards[:-1]"
   ]
  },
  {
   "cell_type": "markdown",
   "metadata": {},
   "source": [
    "Second we normalize all those *oracle_text*s:"
   ]
  },
  {
   "cell_type": "code",
   "execution_count": 27,
   "metadata": {},
   "outputs": [],
   "source": [
    "cards = [filter_stop_words(normalize(card[0])) for card in cards if card[0]]"
   ]
  },
  {
   "cell_type": "markdown",
   "metadata": {},
   "source": [
    "Third we create the *Word2Vec* representations for all the words in the normalized *oracle_text*s and persist them:"
   ]
  },
  {
   "cell_type": "code",
   "execution_count": 31,
   "metadata": {},
   "outputs": [],
   "source": [
    "from gensim.models import Word2Vec\n",
    "from gensim.test.utils import get_tmpfile\n",
    "import gzip\n",
    "\n",
    "\n",
    "path = get_tmpfile(\"./data/word2vec.model\")\n",
    "\n",
    "model = Word2Vec(cards, size=word_dim, window=5, min_count=1, workers=4)\n",
    "model.wv.save_word2vec_format(\"../../data/word2vec.txt\")\n",
    "\n",
    "# gzip the model\n",
    "f_in = open('../../data/word2vec.txt', 'rb')\n",
    "f_out = gzip.open('../../data/word2vec.txt.gz', 'wb')\n",
    "f_out.writelines(f_in)\n",
    "f_out.close()\n",
    "f_in.close()\n",
    "\n",
    "# Then command line:\n",
    "# python3.6 -m spacy init-model en ./data/spacy.word2vec.model --vectors-loc data/word2vec.txt.gz"
   ]
  },
  {
   "cell_type": "markdown",
   "metadata": {},
   "source": [
    "And the last step is to create a SpaCy model based on those persisted *Word2Vec* representations by executing:\n",
    "\n",
    "`python3.6 -m spacy init-model en ./data/spacy.word2vec.model --vectors-loc data/word2vec.txt.gz`\n",
    "\n",
    "in the terminal"
   ]
  },
  {
   "cell_type": "markdown",
   "metadata": {},
   "source": [
    "## Modeling\n",
    "\n",
    "The *SpaCy* model aggregates the (100-dimensional) vectors of the words in the cards (resp. in their *oracle_text*) into a single (100-dimensional) vector. For each card, we create this vector:"
   ]
  },
  {
   "cell_type": "code",
   "execution_count": 7,
   "metadata": {},
   "outputs": [],
   "source": [
    "from spacy import load\n",
    "from numpy import zeros\n",
    "\n",
    "\n",
    "nlp_mtg = load('../../data/spacy.word2vec.model')\n",
    "\n",
    "X = zeros((cards_df.shape[0], word_dim))\n",
    "for i, text in enumerate(cards_df['normalized_oracle_text']):\n",
    "    X[i,:] = nlp_mtg(text).vector"
   ]
  },
  {
   "cell_type": "markdown",
   "metadata": {},
   "source": [
    "The model will, for each card it will predict, a 6 dimensional array. The value in each dimension will correspond to the probability for the card to belong to the corresponding tag.\n",
    "\n",
    "For this, we have to provide `y` as a 6 dimensional vector. We *one-hot-encode* the labels: \n",
    "* *0* => [1, 0, 0, 0, 0, 0]\n",
    "* *1* => [0, 1, 0, 0, 0, 0]\n",
    "* etc."
   ]
  },
  {
   "cell_type": "code",
   "execution_count": 39,
   "metadata": {},
   "outputs": [
    {
     "name": "stderr",
     "output_type": "stream",
     "text": [
      "/usr/local/lib/python3.6/dist-packages/sklearn/preprocessing/_encoders.py:415: FutureWarning: The handling of integer data will change in version 0.22. Currently, the categories are determined based on the range [0, max(values)], while in the future they will be determined based on the unique values.\n",
      "If you want the future behaviour and silence this warning, you can specify \"categories='auto'\".\n",
      "In case you used a LabelEncoder before this OneHotEncoder to convert the categories to integers, then you can now use the OneHotEncoder directly.\n",
      "  warnings.warn(msg, FutureWarning)\n"
     ]
    }
   ],
   "source": [
    "from sklearn.preprocessing import OneHotEncoder\n",
    "\n",
    "\n",
    "y = cards_df['label'].values.reshape(-1, 1)\n",
    "enc = OneHotEncoder()\n",
    "y =  enc.fit_transform(y)"
   ]
  },
  {
   "cell_type": "markdown",
   "metadata": {},
   "source": [
    "We split the data into train and test, with 90% allocated to train and 10% to test:"
   ]
  },
  {
   "cell_type": "code",
   "execution_count": 40,
   "metadata": {},
   "outputs": [],
   "source": [
    "X_train, X_test, y_train, y_test = train_test_split(X, y, test_size=0.1, random_state=7)"
   ]
  },
  {
   "cell_type": "code",
   "execution_count": 41,
   "metadata": {},
   "outputs": [],
   "source": [
    "from tensorflow.keras.models import Sequential\n",
    "from tensorflow.keras.layers import Dense, LSTM, Bidirectional, GlobalMaxPool1D, Dropout"
   ]
  },
  {
   "cell_type": "markdown",
   "metadata": {},
   "source": [
    "Now we create a model\n",
    "\n",
    "**NB: here this model is not deep at all, it has just one input layer with 10 cells and one output layer, so it's not deep at all. There is also no \"wizardry\" involved concerning the learning rates etc. At his stage, it's just for illustration purpose and as a basis for further developments**"
   ]
  },
  {
   "cell_type": "code",
   "execution_count": 42,
   "metadata": {},
   "outputs": [],
   "source": [
    "n_labels = y.shape[1]\n",
    "\n",
    "model = Sequential()\n",
    "\n",
    "model.add(Dense(10, input_dim=word_dim, activation='relu'))\n",
    "model.add(Dense(n_labels, activation=\"sigmoid\"))"
   ]
  },
  {
   "cell_type": "code",
   "execution_count": 43,
   "metadata": {},
   "outputs": [],
   "source": [
    "model.compile(optimizer='adam', loss='binary_crossentropy', metrics=['accuracy'])"
   ]
  },
  {
   "cell_type": "code",
   "execution_count": 44,
   "metadata": {},
   "outputs": [
    {
     "data": {
      "text/plain": [
       "<tensorflow.python.keras.callbacks.History at 0x7fe49a2eea20>"
      ]
     },
     "execution_count": 44,
     "metadata": {},
     "output_type": "execute_result"
    }
   ],
   "source": [
    "model.fit(X_train, y_train, epochs=50, verbose=0)"
   ]
  },
  {
   "cell_type": "code",
   "execution_count": 45,
   "metadata": {},
   "outputs": [
    {
     "name": "stdout",
     "output_type": "stream",
     "text": [
      "accuracy: 0.46010972067840367\n"
     ]
    }
   ],
   "source": [
    "from numpy import argmax, mean\n",
    "\n",
    "\n",
    "y_predict = model.predict(X_test)\n",
    "y_predict = argmax(y_predict, 1)\n",
    "y_test = argmax(y_test, 1)\n",
    "\n",
    "accuracy = mean(y_predict == y_test)\n",
    "print(f'accuracy: {accuracy}')"
   ]
  },
  {
   "cell_type": "markdown",
   "metadata": {},
   "source": [
    "Ok, the accuracy is \"just\" 3X better than the random baseline, and 2X worse than what we could obtain with machin learning models, but again, this is just a dummy model to illustrate how to use deep learning for classifying cards"
   ]
  }
 ],
 "metadata": {
  "kernelspec": {
   "display_name": "Python 3",
   "language": "python",
   "name": "python3"
  },
  "language_info": {
   "codemirror_mode": {
    "name": "ipython",
    "version": 3
   },
   "file_extension": ".py",
   "mimetype": "text/x-python",
   "name": "python",
   "nbconvert_exporter": "python",
   "pygments_lexer": "ipython3",
   "version": "3.6.9"
  }
 },
 "nbformat": 4,
 "nbformat_minor": 2
}
